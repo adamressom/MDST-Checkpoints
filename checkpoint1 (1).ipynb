{
  "cells": [
    {
      "cell_type": "markdown",
      "metadata": {
        "id": "sFwSiWREfeqz"
      },
      "source": [
        "# Checkpoint 1"
      ]
    },
    {
      "cell_type": "markdown",
      "metadata": {
        "id": "p4X4TvPXfeq0"
      },
      "source": [
        "Reminder:\n",
        "\n",
        "- You are being evaluated for completion and effort in this checkpoint.\n",
        "- Avoid manual labor / hard coding as much as possible, everything we've taught you so far are meant to simplify and automate your process."
      ]
    },
    {
      "cell_type": "markdown",
      "metadata": {
        "id": "-scDfEYifeq0"
      },
      "source": [
        "We will be working with the same `states_edu.csv` that you should already be familiar with from the tutorial.\n",
        "\n",
        "We investigated Grade 8 reading score in the tutorial. For this checkpoint, you are asked to investigate another test. Here's an overview:\n",
        "\n",
        "* Choose a specific response variable to focus on\n",
        ">Grade 4 Math, Grade 4 Reading, Grade 8 Math\n",
        "* Pick or create features to use\n",
        ">Will all the features be useful in predicting test score? Are some more important than others? Should you standardize, bin, or scale the data?\n",
        "* Explore the data as it relates to that test\n",
        ">Create at least 2 visualizations (graphs), each with a caption describing the graph and what it tells us about the data\n",
        "* Create training and testing data\n",
        ">Do you want to train on all the data? Only data from the last 10 years? Only Michigan data?\n",
        "* Train a ML model to predict outcome\n",
        ">Define what you want to predict, and pick a model in sklearn to use (see sklearn <a href=\"https://scikit-learn.org/stable/modules/linear_model.html\">regressors</a>).\n",
        "\n",
        "\n",
        "Include comments throughout your code! Every cleanup and preprocessing task should be documented."
      ]
    },
    {
      "cell_type": "markdown",
      "metadata": {
        "id": "qylFWqlzfeq1"
      },
      "source": [
        "<h2> Data Cleanup </h2>\n",
        "\n",
        "Import `numpy`, `pandas`, and `matplotlib`.\n",
        "\n",
        "(Feel free to import other libraries!)"
      ]
    },
    {
      "cell_type": "code",
      "execution_count": null,
      "metadata": {
        "id": "k0v7vQLEfeq1"
      },
      "outputs": [],
      "source": [
        "import pandas as pd\n",
        "import numpy as np\n",
        "import matplotlib.pyplot as plt"
      ]
    },
    {
      "cell_type": "markdown",
      "metadata": {
        "id": "AWJ0iqKvfeq1"
      },
      "source": [
        "Load in the \"states_edu.csv\" dataset and take a look at the head of the data"
      ]
    },
    {
      "cell_type": "code",
      "execution_count": null,
      "metadata": {
        "id": "CQnhgC-Jfeq2",
        "colab": {
          "base_uri": "https://localhost:8080/",
          "height": 255
        },
        "outputId": "ac5080b8-8a8f-41e2-edd6-37917a289d6a"
      },
      "outputs": [
        {
          "output_type": "execute_result",
          "data": {
            "text/plain": [
              "       PRIMARY_KEY       STATE  YEAR  ENROLL  TOTAL_REVENUE  FEDERAL_REVENUE  \\\n",
              "0     1992_ALABAMA     ALABAMA  1992     NaN      2678885.0         304177.0   \n",
              "1      1992_ALASKA      ALASKA  1992     NaN      1049591.0         106780.0   \n",
              "2     1992_ARIZONA     ARIZONA  1992     NaN      3258079.0         297888.0   \n",
              "3    1992_ARKANSAS    ARKANSAS  1992     NaN      1711959.0         178571.0   \n",
              "4  1992_CALIFORNIA  CALIFORNIA  1992     NaN     26260025.0        2072470.0   \n",
              "\n",
              "   STATE_REVENUE  LOCAL_REVENUE  TOTAL_EXPENDITURE  INSTRUCTION_EXPENDITURE  \\\n",
              "0      1659028.0       715680.0          2653798.0                1481703.0   \n",
              "1       720711.0       222100.0           972488.0                 498362.0   \n",
              "2      1369815.0      1590376.0          3401580.0                1435908.0   \n",
              "3       958785.0       574603.0          1743022.0                 964323.0   \n",
              "4     16546514.0      7641041.0         27138832.0               14358922.0   \n",
              "\n",
              "   ...  GRADES_4_G  GRADES_8_G  GRADES_12_G  GRADES_1_8_G  GRADES_9_12_G  \\\n",
              "0  ...     57948.0     58025.0      41167.0           NaN            NaN   \n",
              "1  ...      9748.0      8789.0       6714.0           NaN            NaN   \n",
              "2  ...     55433.0     49081.0      37410.0           NaN            NaN   \n",
              "3  ...     34632.0     36011.0      27651.0           NaN            NaN   \n",
              "4  ...    418418.0    363296.0     270675.0           NaN            NaN   \n",
              "\n",
              "   GRADES_ALL_G  AVG_MATH_4_SCORE  AVG_MATH_8_SCORE  AVG_READING_4_SCORE  \\\n",
              "0      731634.0             208.0             252.0                207.0   \n",
              "1      122487.0               NaN               NaN                  NaN   \n",
              "2      673477.0             215.0             265.0                209.0   \n",
              "3      441490.0             210.0             256.0                211.0   \n",
              "4     5254844.0             208.0             261.0                202.0   \n",
              "\n",
              "   AVG_READING_8_SCORE  \n",
              "0                  NaN  \n",
              "1                  NaN  \n",
              "2                  NaN  \n",
              "3                  NaN  \n",
              "4                  NaN  \n",
              "\n",
              "[5 rows x 25 columns]"
            ],
            "text/html": [
              "\n",
              "  <div id=\"df-f25d3c0a-4bef-4bf0-a038-c45921fe280b\" class=\"colab-df-container\">\n",
              "    <div>\n",
              "<style scoped>\n",
              "    .dataframe tbody tr th:only-of-type {\n",
              "        vertical-align: middle;\n",
              "    }\n",
              "\n",
              "    .dataframe tbody tr th {\n",
              "        vertical-align: top;\n",
              "    }\n",
              "\n",
              "    .dataframe thead th {\n",
              "        text-align: right;\n",
              "    }\n",
              "</style>\n",
              "<table border=\"1\" class=\"dataframe\">\n",
              "  <thead>\n",
              "    <tr style=\"text-align: right;\">\n",
              "      <th></th>\n",
              "      <th>PRIMARY_KEY</th>\n",
              "      <th>STATE</th>\n",
              "      <th>YEAR</th>\n",
              "      <th>ENROLL</th>\n",
              "      <th>TOTAL_REVENUE</th>\n",
              "      <th>FEDERAL_REVENUE</th>\n",
              "      <th>STATE_REVENUE</th>\n",
              "      <th>LOCAL_REVENUE</th>\n",
              "      <th>TOTAL_EXPENDITURE</th>\n",
              "      <th>INSTRUCTION_EXPENDITURE</th>\n",
              "      <th>...</th>\n",
              "      <th>GRADES_4_G</th>\n",
              "      <th>GRADES_8_G</th>\n",
              "      <th>GRADES_12_G</th>\n",
              "      <th>GRADES_1_8_G</th>\n",
              "      <th>GRADES_9_12_G</th>\n",
              "      <th>GRADES_ALL_G</th>\n",
              "      <th>AVG_MATH_4_SCORE</th>\n",
              "      <th>AVG_MATH_8_SCORE</th>\n",
              "      <th>AVG_READING_4_SCORE</th>\n",
              "      <th>AVG_READING_8_SCORE</th>\n",
              "    </tr>\n",
              "  </thead>\n",
              "  <tbody>\n",
              "    <tr>\n",
              "      <th>0</th>\n",
              "      <td>1992_ALABAMA</td>\n",
              "      <td>ALABAMA</td>\n",
              "      <td>1992</td>\n",
              "      <td>NaN</td>\n",
              "      <td>2678885.0</td>\n",
              "      <td>304177.0</td>\n",
              "      <td>1659028.0</td>\n",
              "      <td>715680.0</td>\n",
              "      <td>2653798.0</td>\n",
              "      <td>1481703.0</td>\n",
              "      <td>...</td>\n",
              "      <td>57948.0</td>\n",
              "      <td>58025.0</td>\n",
              "      <td>41167.0</td>\n",
              "      <td>NaN</td>\n",
              "      <td>NaN</td>\n",
              "      <td>731634.0</td>\n",
              "      <td>208.0</td>\n",
              "      <td>252.0</td>\n",
              "      <td>207.0</td>\n",
              "      <td>NaN</td>\n",
              "    </tr>\n",
              "    <tr>\n",
              "      <th>1</th>\n",
              "      <td>1992_ALASKA</td>\n",
              "      <td>ALASKA</td>\n",
              "      <td>1992</td>\n",
              "      <td>NaN</td>\n",
              "      <td>1049591.0</td>\n",
              "      <td>106780.0</td>\n",
              "      <td>720711.0</td>\n",
              "      <td>222100.0</td>\n",
              "      <td>972488.0</td>\n",
              "      <td>498362.0</td>\n",
              "      <td>...</td>\n",
              "      <td>9748.0</td>\n",
              "      <td>8789.0</td>\n",
              "      <td>6714.0</td>\n",
              "      <td>NaN</td>\n",
              "      <td>NaN</td>\n",
              "      <td>122487.0</td>\n",
              "      <td>NaN</td>\n",
              "      <td>NaN</td>\n",
              "      <td>NaN</td>\n",
              "      <td>NaN</td>\n",
              "    </tr>\n",
              "    <tr>\n",
              "      <th>2</th>\n",
              "      <td>1992_ARIZONA</td>\n",
              "      <td>ARIZONA</td>\n",
              "      <td>1992</td>\n",
              "      <td>NaN</td>\n",
              "      <td>3258079.0</td>\n",
              "      <td>297888.0</td>\n",
              "      <td>1369815.0</td>\n",
              "      <td>1590376.0</td>\n",
              "      <td>3401580.0</td>\n",
              "      <td>1435908.0</td>\n",
              "      <td>...</td>\n",
              "      <td>55433.0</td>\n",
              "      <td>49081.0</td>\n",
              "      <td>37410.0</td>\n",
              "      <td>NaN</td>\n",
              "      <td>NaN</td>\n",
              "      <td>673477.0</td>\n",
              "      <td>215.0</td>\n",
              "      <td>265.0</td>\n",
              "      <td>209.0</td>\n",
              "      <td>NaN</td>\n",
              "    </tr>\n",
              "    <tr>\n",
              "      <th>3</th>\n",
              "      <td>1992_ARKANSAS</td>\n",
              "      <td>ARKANSAS</td>\n",
              "      <td>1992</td>\n",
              "      <td>NaN</td>\n",
              "      <td>1711959.0</td>\n",
              "      <td>178571.0</td>\n",
              "      <td>958785.0</td>\n",
              "      <td>574603.0</td>\n",
              "      <td>1743022.0</td>\n",
              "      <td>964323.0</td>\n",
              "      <td>...</td>\n",
              "      <td>34632.0</td>\n",
              "      <td>36011.0</td>\n",
              "      <td>27651.0</td>\n",
              "      <td>NaN</td>\n",
              "      <td>NaN</td>\n",
              "      <td>441490.0</td>\n",
              "      <td>210.0</td>\n",
              "      <td>256.0</td>\n",
              "      <td>211.0</td>\n",
              "      <td>NaN</td>\n",
              "    </tr>\n",
              "    <tr>\n",
              "      <th>4</th>\n",
              "      <td>1992_CALIFORNIA</td>\n",
              "      <td>CALIFORNIA</td>\n",
              "      <td>1992</td>\n",
              "      <td>NaN</td>\n",
              "      <td>26260025.0</td>\n",
              "      <td>2072470.0</td>\n",
              "      <td>16546514.0</td>\n",
              "      <td>7641041.0</td>\n",
              "      <td>27138832.0</td>\n",
              "      <td>14358922.0</td>\n",
              "      <td>...</td>\n",
              "      <td>418418.0</td>\n",
              "      <td>363296.0</td>\n",
              "      <td>270675.0</td>\n",
              "      <td>NaN</td>\n",
              "      <td>NaN</td>\n",
              "      <td>5254844.0</td>\n",
              "      <td>208.0</td>\n",
              "      <td>261.0</td>\n",
              "      <td>202.0</td>\n",
              "      <td>NaN</td>\n",
              "    </tr>\n",
              "  </tbody>\n",
              "</table>\n",
              "<p>5 rows × 25 columns</p>\n",
              "</div>\n",
              "    <div class=\"colab-df-buttons\">\n",
              "\n",
              "  <div class=\"colab-df-container\">\n",
              "    <button class=\"colab-df-convert\" onclick=\"convertToInteractive('df-f25d3c0a-4bef-4bf0-a038-c45921fe280b')\"\n",
              "            title=\"Convert this dataframe to an interactive table.\"\n",
              "            style=\"display:none;\">\n",
              "\n",
              "  <svg xmlns=\"http://www.w3.org/2000/svg\" height=\"24px\" viewBox=\"0 -960 960 960\">\n",
              "    <path d=\"M120-120v-720h720v720H120Zm60-500h600v-160H180v160Zm220 220h160v-160H400v160Zm0 220h160v-160H400v160ZM180-400h160v-160H180v160Zm440 0h160v-160H620v160ZM180-180h160v-160H180v160Zm440 0h160v-160H620v160Z\"/>\n",
              "  </svg>\n",
              "    </button>\n",
              "\n",
              "  <style>\n",
              "    .colab-df-container {\n",
              "      display:flex;\n",
              "      gap: 12px;\n",
              "    }\n",
              "\n",
              "    .colab-df-convert {\n",
              "      background-color: #E8F0FE;\n",
              "      border: none;\n",
              "      border-radius: 50%;\n",
              "      cursor: pointer;\n",
              "      display: none;\n",
              "      fill: #1967D2;\n",
              "      height: 32px;\n",
              "      padding: 0 0 0 0;\n",
              "      width: 32px;\n",
              "    }\n",
              "\n",
              "    .colab-df-convert:hover {\n",
              "      background-color: #E2EBFA;\n",
              "      box-shadow: 0px 1px 2px rgba(60, 64, 67, 0.3), 0px 1px 3px 1px rgba(60, 64, 67, 0.15);\n",
              "      fill: #174EA6;\n",
              "    }\n",
              "\n",
              "    .colab-df-buttons div {\n",
              "      margin-bottom: 4px;\n",
              "    }\n",
              "\n",
              "    [theme=dark] .colab-df-convert {\n",
              "      background-color: #3B4455;\n",
              "      fill: #D2E3FC;\n",
              "    }\n",
              "\n",
              "    [theme=dark] .colab-df-convert:hover {\n",
              "      background-color: #434B5C;\n",
              "      box-shadow: 0px 1px 3px 1px rgba(0, 0, 0, 0.15);\n",
              "      filter: drop-shadow(0px 1px 2px rgba(0, 0, 0, 0.3));\n",
              "      fill: #FFFFFF;\n",
              "    }\n",
              "  </style>\n",
              "\n",
              "    <script>\n",
              "      const buttonEl =\n",
              "        document.querySelector('#df-f25d3c0a-4bef-4bf0-a038-c45921fe280b button.colab-df-convert');\n",
              "      buttonEl.style.display =\n",
              "        google.colab.kernel.accessAllowed ? 'block' : 'none';\n",
              "\n",
              "      async function convertToInteractive(key) {\n",
              "        const element = document.querySelector('#df-f25d3c0a-4bef-4bf0-a038-c45921fe280b');\n",
              "        const dataTable =\n",
              "          await google.colab.kernel.invokeFunction('convertToInteractive',\n",
              "                                                    [key], {});\n",
              "        if (!dataTable) return;\n",
              "\n",
              "        const docLinkHtml = 'Like what you see? Visit the ' +\n",
              "          '<a target=\"_blank\" href=https://colab.research.google.com/notebooks/data_table.ipynb>data table notebook</a>'\n",
              "          + ' to learn more about interactive tables.';\n",
              "        element.innerHTML = '';\n",
              "        dataTable['output_type'] = 'display_data';\n",
              "        await google.colab.output.renderOutput(dataTable, element);\n",
              "        const docLink = document.createElement('div');\n",
              "        docLink.innerHTML = docLinkHtml;\n",
              "        element.appendChild(docLink);\n",
              "      }\n",
              "    </script>\n",
              "  </div>\n",
              "\n",
              "\n",
              "<div id=\"df-a4e2e05d-1d16-4ccd-a692-9ba3f5c9a3aa\">\n",
              "  <button class=\"colab-df-quickchart\" onclick=\"quickchart('df-a4e2e05d-1d16-4ccd-a692-9ba3f5c9a3aa')\"\n",
              "            title=\"Suggest charts\"\n",
              "            style=\"display:none;\">\n",
              "\n",
              "<svg xmlns=\"http://www.w3.org/2000/svg\" height=\"24px\"viewBox=\"0 0 24 24\"\n",
              "     width=\"24px\">\n",
              "    <g>\n",
              "        <path d=\"M19 3H5c-1.1 0-2 .9-2 2v14c0 1.1.9 2 2 2h14c1.1 0 2-.9 2-2V5c0-1.1-.9-2-2-2zM9 17H7v-7h2v7zm4 0h-2V7h2v10zm4 0h-2v-4h2v4z\"/>\n",
              "    </g>\n",
              "</svg>\n",
              "  </button>\n",
              "\n",
              "<style>\n",
              "  .colab-df-quickchart {\n",
              "      --bg-color: #E8F0FE;\n",
              "      --fill-color: #1967D2;\n",
              "      --hover-bg-color: #E2EBFA;\n",
              "      --hover-fill-color: #174EA6;\n",
              "      --disabled-fill-color: #AAA;\n",
              "      --disabled-bg-color: #DDD;\n",
              "  }\n",
              "\n",
              "  [theme=dark] .colab-df-quickchart {\n",
              "      --bg-color: #3B4455;\n",
              "      --fill-color: #D2E3FC;\n",
              "      --hover-bg-color: #434B5C;\n",
              "      --hover-fill-color: #FFFFFF;\n",
              "      --disabled-bg-color: #3B4455;\n",
              "      --disabled-fill-color: #666;\n",
              "  }\n",
              "\n",
              "  .colab-df-quickchart {\n",
              "    background-color: var(--bg-color);\n",
              "    border: none;\n",
              "    border-radius: 50%;\n",
              "    cursor: pointer;\n",
              "    display: none;\n",
              "    fill: var(--fill-color);\n",
              "    height: 32px;\n",
              "    padding: 0;\n",
              "    width: 32px;\n",
              "  }\n",
              "\n",
              "  .colab-df-quickchart:hover {\n",
              "    background-color: var(--hover-bg-color);\n",
              "    box-shadow: 0 1px 2px rgba(60, 64, 67, 0.3), 0 1px 3px 1px rgba(60, 64, 67, 0.15);\n",
              "    fill: var(--button-hover-fill-color);\n",
              "  }\n",
              "\n",
              "  .colab-df-quickchart-complete:disabled,\n",
              "  .colab-df-quickchart-complete:disabled:hover {\n",
              "    background-color: var(--disabled-bg-color);\n",
              "    fill: var(--disabled-fill-color);\n",
              "    box-shadow: none;\n",
              "  }\n",
              "\n",
              "  .colab-df-spinner {\n",
              "    border: 2px solid var(--fill-color);\n",
              "    border-color: transparent;\n",
              "    border-bottom-color: var(--fill-color);\n",
              "    animation:\n",
              "      spin 1s steps(1) infinite;\n",
              "  }\n",
              "\n",
              "  @keyframes spin {\n",
              "    0% {\n",
              "      border-color: transparent;\n",
              "      border-bottom-color: var(--fill-color);\n",
              "      border-left-color: var(--fill-color);\n",
              "    }\n",
              "    20% {\n",
              "      border-color: transparent;\n",
              "      border-left-color: var(--fill-color);\n",
              "      border-top-color: var(--fill-color);\n",
              "    }\n",
              "    30% {\n",
              "      border-color: transparent;\n",
              "      border-left-color: var(--fill-color);\n",
              "      border-top-color: var(--fill-color);\n",
              "      border-right-color: var(--fill-color);\n",
              "    }\n",
              "    40% {\n",
              "      border-color: transparent;\n",
              "      border-right-color: var(--fill-color);\n",
              "      border-top-color: var(--fill-color);\n",
              "    }\n",
              "    60% {\n",
              "      border-color: transparent;\n",
              "      border-right-color: var(--fill-color);\n",
              "    }\n",
              "    80% {\n",
              "      border-color: transparent;\n",
              "      border-right-color: var(--fill-color);\n",
              "      border-bottom-color: var(--fill-color);\n",
              "    }\n",
              "    90% {\n",
              "      border-color: transparent;\n",
              "      border-bottom-color: var(--fill-color);\n",
              "    }\n",
              "  }\n",
              "</style>\n",
              "\n",
              "  <script>\n",
              "    async function quickchart(key) {\n",
              "      const quickchartButtonEl =\n",
              "        document.querySelector('#' + key + ' button');\n",
              "      quickchartButtonEl.disabled = true;  // To prevent multiple clicks.\n",
              "      quickchartButtonEl.classList.add('colab-df-spinner');\n",
              "      try {\n",
              "        const charts = await google.colab.kernel.invokeFunction(\n",
              "            'suggestCharts', [key], {});\n",
              "      } catch (error) {\n",
              "        console.error('Error during call to suggestCharts:', error);\n",
              "      }\n",
              "      quickchartButtonEl.classList.remove('colab-df-spinner');\n",
              "      quickchartButtonEl.classList.add('colab-df-quickchart-complete');\n",
              "    }\n",
              "    (() => {\n",
              "      let quickchartButtonEl =\n",
              "        document.querySelector('#df-a4e2e05d-1d16-4ccd-a692-9ba3f5c9a3aa button');\n",
              "      quickchartButtonEl.style.display =\n",
              "        google.colab.kernel.accessAllowed ? 'block' : 'none';\n",
              "    })();\n",
              "  </script>\n",
              "</div>\n",
              "\n",
              "    </div>\n",
              "  </div>\n"
            ],
            "application/vnd.google.colaboratory.intrinsic+json": {
              "type": "dataframe",
              "variable_name": "state"
            }
          },
          "metadata": {},
          "execution_count": 149
        }
      ],
      "source": [
        "state = pd.read_csv(\"/content/states_edu.csv\")\n",
        "state.head()\n"
      ]
    },
    {
      "cell_type": "markdown",
      "metadata": {
        "id": "rBYJ6RUafeq2"
      },
      "source": [
        "You should always familiarize yourself with what each column in the dataframe represents. Read about the states_edu dataset here: https://www.kaggle.com/noriuk/us-education-datasets-unification-project"
      ]
    },
    {
      "cell_type": "markdown",
      "metadata": {
        "id": "bN-_s9bAfeq2"
      },
      "source": [
        "Use this space to rename columns, deal with missing data, etc. _(optional)_"
      ]
    },
    {
      "cell_type": "code",
      "source": [
        "state['AVG_READING_4_SCORE'].fillna(state['AVG_READING_4_SCORE'].median(),inplace = True)\n",
        "state['AVG_MATH_4_SCORE'].fillna(state['AVG_MATH_4_SCORE'].median(),inplace = True)\n",
        "state['AVG_MATH_8_SCORE'].fillna(state['AVG_MATH_8_SCORE'].median(),inplace = True)"
      ],
      "metadata": {
        "id": "SDl-2KHO6OoL"
      },
      "execution_count": null,
      "outputs": []
    },
    {
      "cell_type": "code",
      "execution_count": null,
      "metadata": {
        "colab": {
          "base_uri": "https://localhost:8080/",
          "height": 255
        },
        "outputId": "d1db0962-67be-46ec-b08d-50c5d44a605b",
        "id": "vS7uAtGD9C_W"
      },
      "outputs": [
        {
          "output_type": "execute_result",
          "data": {
            "text/plain": [
              "       PRIMARY_KEY       STATE  YEAR  ENROLL  TOTAL_REVENUE  FEDERAL_REVENUE  \\\n",
              "0     1992_ALABAMA     ALABAMA  1992     NaN      2678885.0         304177.0   \n",
              "1      1992_ALASKA      ALASKA  1992     NaN      1049591.0         106780.0   \n",
              "2     1992_ARIZONA     ARIZONA  1992     NaN      3258079.0         297888.0   \n",
              "3    1992_ARKANSAS    ARKANSAS  1992     NaN      1711959.0         178571.0   \n",
              "4  1992_CALIFORNIA  CALIFORNIA  1992     NaN     26260025.0        2072470.0   \n",
              "\n",
              "   STATE_REVENUE  LOCAL_REVENUE  TOTAL_EXPENDITURE  INSTRUCTION_EXPENDITURE  \\\n",
              "0      1659028.0       715680.0          2653798.0                1481703.0   \n",
              "1       720711.0       222100.0           972488.0                 498362.0   \n",
              "2      1369815.0      1590376.0          3401580.0                1435908.0   \n",
              "3       958785.0       574603.0          1743022.0                 964323.0   \n",
              "4     16546514.0      7641041.0         27138832.0               14358922.0   \n",
              "\n",
              "   ...  GRADES_4_G  GRADES_8_G  GRADES_12_G  GRADES_1_8_G  GRADES_9_12_G  \\\n",
              "0  ...     57948.0     58025.0      41167.0           NaN            NaN   \n",
              "1  ...      9748.0      8789.0       6714.0           NaN            NaN   \n",
              "2  ...     55433.0     49081.0      37410.0           NaN            NaN   \n",
              "3  ...     34632.0     36011.0      27651.0           NaN            NaN   \n",
              "4  ...    418418.0    363296.0     270675.0           NaN            NaN   \n",
              "\n",
              "   GRADES_ALL_G  AVG_MATH_4_SCORE  AVG_MATH_8_SCORE  AVG_READING_4_SCORE  \\\n",
              "0      731634.0             208.0             252.0                207.0   \n",
              "1      122487.0               NaN               NaN                  NaN   \n",
              "2      673477.0             215.0             265.0                209.0   \n",
              "3      441490.0             210.0             256.0                211.0   \n",
              "4     5254844.0             208.0             261.0                202.0   \n",
              "\n",
              "   AVG_READING_8_SCORE  \n",
              "0                  NaN  \n",
              "1                  NaN  \n",
              "2                  NaN  \n",
              "3                  NaN  \n",
              "4                  NaN  \n",
              "\n",
              "[5 rows x 25 columns]"
            ],
            "text/html": [
              "\n",
              "  <div id=\"df-8eabc9e4-8733-4b8e-b11e-8e2463f3cf2a\" class=\"colab-df-container\">\n",
              "    <div>\n",
              "<style scoped>\n",
              "    .dataframe tbody tr th:only-of-type {\n",
              "        vertical-align: middle;\n",
              "    }\n",
              "\n",
              "    .dataframe tbody tr th {\n",
              "        vertical-align: top;\n",
              "    }\n",
              "\n",
              "    .dataframe thead th {\n",
              "        text-align: right;\n",
              "    }\n",
              "</style>\n",
              "<table border=\"1\" class=\"dataframe\">\n",
              "  <thead>\n",
              "    <tr style=\"text-align: right;\">\n",
              "      <th></th>\n",
              "      <th>PRIMARY_KEY</th>\n",
              "      <th>STATE</th>\n",
              "      <th>YEAR</th>\n",
              "      <th>ENROLL</th>\n",
              "      <th>TOTAL_REVENUE</th>\n",
              "      <th>FEDERAL_REVENUE</th>\n",
              "      <th>STATE_REVENUE</th>\n",
              "      <th>LOCAL_REVENUE</th>\n",
              "      <th>TOTAL_EXPENDITURE</th>\n",
              "      <th>INSTRUCTION_EXPENDITURE</th>\n",
              "      <th>...</th>\n",
              "      <th>GRADES_4_G</th>\n",
              "      <th>GRADES_8_G</th>\n",
              "      <th>GRADES_12_G</th>\n",
              "      <th>GRADES_1_8_G</th>\n",
              "      <th>GRADES_9_12_G</th>\n",
              "      <th>GRADES_ALL_G</th>\n",
              "      <th>AVG_MATH_4_SCORE</th>\n",
              "      <th>AVG_MATH_8_SCORE</th>\n",
              "      <th>AVG_READING_4_SCORE</th>\n",
              "      <th>AVG_READING_8_SCORE</th>\n",
              "    </tr>\n",
              "  </thead>\n",
              "  <tbody>\n",
              "    <tr>\n",
              "      <th>0</th>\n",
              "      <td>1992_ALABAMA</td>\n",
              "      <td>ALABAMA</td>\n",
              "      <td>1992</td>\n",
              "      <td>NaN</td>\n",
              "      <td>2678885.0</td>\n",
              "      <td>304177.0</td>\n",
              "      <td>1659028.0</td>\n",
              "      <td>715680.0</td>\n",
              "      <td>2653798.0</td>\n",
              "      <td>1481703.0</td>\n",
              "      <td>...</td>\n",
              "      <td>57948.0</td>\n",
              "      <td>58025.0</td>\n",
              "      <td>41167.0</td>\n",
              "      <td>NaN</td>\n",
              "      <td>NaN</td>\n",
              "      <td>731634.0</td>\n",
              "      <td>208.0</td>\n",
              "      <td>252.0</td>\n",
              "      <td>207.0</td>\n",
              "      <td>NaN</td>\n",
              "    </tr>\n",
              "    <tr>\n",
              "      <th>1</th>\n",
              "      <td>1992_ALASKA</td>\n",
              "      <td>ALASKA</td>\n",
              "      <td>1992</td>\n",
              "      <td>NaN</td>\n",
              "      <td>1049591.0</td>\n",
              "      <td>106780.0</td>\n",
              "      <td>720711.0</td>\n",
              "      <td>222100.0</td>\n",
              "      <td>972488.0</td>\n",
              "      <td>498362.0</td>\n",
              "      <td>...</td>\n",
              "      <td>9748.0</td>\n",
              "      <td>8789.0</td>\n",
              "      <td>6714.0</td>\n",
              "      <td>NaN</td>\n",
              "      <td>NaN</td>\n",
              "      <td>122487.0</td>\n",
              "      <td>NaN</td>\n",
              "      <td>NaN</td>\n",
              "      <td>NaN</td>\n",
              "      <td>NaN</td>\n",
              "    </tr>\n",
              "    <tr>\n",
              "      <th>2</th>\n",
              "      <td>1992_ARIZONA</td>\n",
              "      <td>ARIZONA</td>\n",
              "      <td>1992</td>\n",
              "      <td>NaN</td>\n",
              "      <td>3258079.0</td>\n",
              "      <td>297888.0</td>\n",
              "      <td>1369815.0</td>\n",
              "      <td>1590376.0</td>\n",
              "      <td>3401580.0</td>\n",
              "      <td>1435908.0</td>\n",
              "      <td>...</td>\n",
              "      <td>55433.0</td>\n",
              "      <td>49081.0</td>\n",
              "      <td>37410.0</td>\n",
              "      <td>NaN</td>\n",
              "      <td>NaN</td>\n",
              "      <td>673477.0</td>\n",
              "      <td>215.0</td>\n",
              "      <td>265.0</td>\n",
              "      <td>209.0</td>\n",
              "      <td>NaN</td>\n",
              "    </tr>\n",
              "    <tr>\n",
              "      <th>3</th>\n",
              "      <td>1992_ARKANSAS</td>\n",
              "      <td>ARKANSAS</td>\n",
              "      <td>1992</td>\n",
              "      <td>NaN</td>\n",
              "      <td>1711959.0</td>\n",
              "      <td>178571.0</td>\n",
              "      <td>958785.0</td>\n",
              "      <td>574603.0</td>\n",
              "      <td>1743022.0</td>\n",
              "      <td>964323.0</td>\n",
              "      <td>...</td>\n",
              "      <td>34632.0</td>\n",
              "      <td>36011.0</td>\n",
              "      <td>27651.0</td>\n",
              "      <td>NaN</td>\n",
              "      <td>NaN</td>\n",
              "      <td>441490.0</td>\n",
              "      <td>210.0</td>\n",
              "      <td>256.0</td>\n",
              "      <td>211.0</td>\n",
              "      <td>NaN</td>\n",
              "    </tr>\n",
              "    <tr>\n",
              "      <th>4</th>\n",
              "      <td>1992_CALIFORNIA</td>\n",
              "      <td>CALIFORNIA</td>\n",
              "      <td>1992</td>\n",
              "      <td>NaN</td>\n",
              "      <td>26260025.0</td>\n",
              "      <td>2072470.0</td>\n",
              "      <td>16546514.0</td>\n",
              "      <td>7641041.0</td>\n",
              "      <td>27138832.0</td>\n",
              "      <td>14358922.0</td>\n",
              "      <td>...</td>\n",
              "      <td>418418.0</td>\n",
              "      <td>363296.0</td>\n",
              "      <td>270675.0</td>\n",
              "      <td>NaN</td>\n",
              "      <td>NaN</td>\n",
              "      <td>5254844.0</td>\n",
              "      <td>208.0</td>\n",
              "      <td>261.0</td>\n",
              "      <td>202.0</td>\n",
              "      <td>NaN</td>\n",
              "    </tr>\n",
              "  </tbody>\n",
              "</table>\n",
              "<p>5 rows × 25 columns</p>\n",
              "</div>\n",
              "    <div class=\"colab-df-buttons\">\n",
              "\n",
              "  <div class=\"colab-df-container\">\n",
              "    <button class=\"colab-df-convert\" onclick=\"convertToInteractive('df-8eabc9e4-8733-4b8e-b11e-8e2463f3cf2a')\"\n",
              "            title=\"Convert this dataframe to an interactive table.\"\n",
              "            style=\"display:none;\">\n",
              "\n",
              "  <svg xmlns=\"http://www.w3.org/2000/svg\" height=\"24px\" viewBox=\"0 -960 960 960\">\n",
              "    <path d=\"M120-120v-720h720v720H120Zm60-500h600v-160H180v160Zm220 220h160v-160H400v160Zm0 220h160v-160H400v160ZM180-400h160v-160H180v160Zm440 0h160v-160H620v160ZM180-180h160v-160H180v160Zm440 0h160v-160H620v160Z\"/>\n",
              "  </svg>\n",
              "    </button>\n",
              "\n",
              "  <style>\n",
              "    .colab-df-container {\n",
              "      display:flex;\n",
              "      gap: 12px;\n",
              "    }\n",
              "\n",
              "    .colab-df-convert {\n",
              "      background-color: #E8F0FE;\n",
              "      border: none;\n",
              "      border-radius: 50%;\n",
              "      cursor: pointer;\n",
              "      display: none;\n",
              "      fill: #1967D2;\n",
              "      height: 32px;\n",
              "      padding: 0 0 0 0;\n",
              "      width: 32px;\n",
              "    }\n",
              "\n",
              "    .colab-df-convert:hover {\n",
              "      background-color: #E2EBFA;\n",
              "      box-shadow: 0px 1px 2px rgba(60, 64, 67, 0.3), 0px 1px 3px 1px rgba(60, 64, 67, 0.15);\n",
              "      fill: #174EA6;\n",
              "    }\n",
              "\n",
              "    .colab-df-buttons div {\n",
              "      margin-bottom: 4px;\n",
              "    }\n",
              "\n",
              "    [theme=dark] .colab-df-convert {\n",
              "      background-color: #3B4455;\n",
              "      fill: #D2E3FC;\n",
              "    }\n",
              "\n",
              "    [theme=dark] .colab-df-convert:hover {\n",
              "      background-color: #434B5C;\n",
              "      box-shadow: 0px 1px 3px 1px rgba(0, 0, 0, 0.15);\n",
              "      filter: drop-shadow(0px 1px 2px rgba(0, 0, 0, 0.3));\n",
              "      fill: #FFFFFF;\n",
              "    }\n",
              "  </style>\n",
              "\n",
              "    <script>\n",
              "      const buttonEl =\n",
              "        document.querySelector('#df-8eabc9e4-8733-4b8e-b11e-8e2463f3cf2a button.colab-df-convert');\n",
              "      buttonEl.style.display =\n",
              "        google.colab.kernel.accessAllowed ? 'block' : 'none';\n",
              "\n",
              "      async function convertToInteractive(key) {\n",
              "        const element = document.querySelector('#df-8eabc9e4-8733-4b8e-b11e-8e2463f3cf2a');\n",
              "        const dataTable =\n",
              "          await google.colab.kernel.invokeFunction('convertToInteractive',\n",
              "                                                    [key], {});\n",
              "        if (!dataTable) return;\n",
              "\n",
              "        const docLinkHtml = 'Like what you see? Visit the ' +\n",
              "          '<a target=\"_blank\" href=https://colab.research.google.com/notebooks/data_table.ipynb>data table notebook</a>'\n",
              "          + ' to learn more about interactive tables.';\n",
              "        element.innerHTML = '';\n",
              "        dataTable['output_type'] = 'display_data';\n",
              "        await google.colab.output.renderOutput(dataTable, element);\n",
              "        const docLink = document.createElement('div');\n",
              "        docLink.innerHTML = docLinkHtml;\n",
              "        element.appendChild(docLink);\n",
              "      }\n",
              "    </script>\n",
              "  </div>\n",
              "\n",
              "\n",
              "<div id=\"df-68f819ab-20ef-4b1f-a5e3-535f03178f1f\">\n",
              "  <button class=\"colab-df-quickchart\" onclick=\"quickchart('df-68f819ab-20ef-4b1f-a5e3-535f03178f1f')\"\n",
              "            title=\"Suggest charts\"\n",
              "            style=\"display:none;\">\n",
              "\n",
              "<svg xmlns=\"http://www.w3.org/2000/svg\" height=\"24px\"viewBox=\"0 0 24 24\"\n",
              "     width=\"24px\">\n",
              "    <g>\n",
              "        <path d=\"M19 3H5c-1.1 0-2 .9-2 2v14c0 1.1.9 2 2 2h14c1.1 0 2-.9 2-2V5c0-1.1-.9-2-2-2zM9 17H7v-7h2v7zm4 0h-2V7h2v10zm4 0h-2v-4h2v4z\"/>\n",
              "    </g>\n",
              "</svg>\n",
              "  </button>\n",
              "\n",
              "<style>\n",
              "  .colab-df-quickchart {\n",
              "      --bg-color: #E8F0FE;\n",
              "      --fill-color: #1967D2;\n",
              "      --hover-bg-color: #E2EBFA;\n",
              "      --hover-fill-color: #174EA6;\n",
              "      --disabled-fill-color: #AAA;\n",
              "      --disabled-bg-color: #DDD;\n",
              "  }\n",
              "\n",
              "  [theme=dark] .colab-df-quickchart {\n",
              "      --bg-color: #3B4455;\n",
              "      --fill-color: #D2E3FC;\n",
              "      --hover-bg-color: #434B5C;\n",
              "      --hover-fill-color: #FFFFFF;\n",
              "      --disabled-bg-color: #3B4455;\n",
              "      --disabled-fill-color: #666;\n",
              "  }\n",
              "\n",
              "  .colab-df-quickchart {\n",
              "    background-color: var(--bg-color);\n",
              "    border: none;\n",
              "    border-radius: 50%;\n",
              "    cursor: pointer;\n",
              "    display: none;\n",
              "    fill: var(--fill-color);\n",
              "    height: 32px;\n",
              "    padding: 0;\n",
              "    width: 32px;\n",
              "  }\n",
              "\n",
              "  .colab-df-quickchart:hover {\n",
              "    background-color: var(--hover-bg-color);\n",
              "    box-shadow: 0 1px 2px rgba(60, 64, 67, 0.3), 0 1px 3px 1px rgba(60, 64, 67, 0.15);\n",
              "    fill: var(--button-hover-fill-color);\n",
              "  }\n",
              "\n",
              "  .colab-df-quickchart-complete:disabled,\n",
              "  .colab-df-quickchart-complete:disabled:hover {\n",
              "    background-color: var(--disabled-bg-color);\n",
              "    fill: var(--disabled-fill-color);\n",
              "    box-shadow: none;\n",
              "  }\n",
              "\n",
              "  .colab-df-spinner {\n",
              "    border: 2px solid var(--fill-color);\n",
              "    border-color: transparent;\n",
              "    border-bottom-color: var(--fill-color);\n",
              "    animation:\n",
              "      spin 1s steps(1) infinite;\n",
              "  }\n",
              "\n",
              "  @keyframes spin {\n",
              "    0% {\n",
              "      border-color: transparent;\n",
              "      border-bottom-color: var(--fill-color);\n",
              "      border-left-color: var(--fill-color);\n",
              "    }\n",
              "    20% {\n",
              "      border-color: transparent;\n",
              "      border-left-color: var(--fill-color);\n",
              "      border-top-color: var(--fill-color);\n",
              "    }\n",
              "    30% {\n",
              "      border-color: transparent;\n",
              "      border-left-color: var(--fill-color);\n",
              "      border-top-color: var(--fill-color);\n",
              "      border-right-color: var(--fill-color);\n",
              "    }\n",
              "    40% {\n",
              "      border-color: transparent;\n",
              "      border-right-color: var(--fill-color);\n",
              "      border-top-color: var(--fill-color);\n",
              "    }\n",
              "    60% {\n",
              "      border-color: transparent;\n",
              "      border-right-color: var(--fill-color);\n",
              "    }\n",
              "    80% {\n",
              "      border-color: transparent;\n",
              "      border-right-color: var(--fill-color);\n",
              "      border-bottom-color: var(--fill-color);\n",
              "    }\n",
              "    90% {\n",
              "      border-color: transparent;\n",
              "      border-bottom-color: var(--fill-color);\n",
              "    }\n",
              "  }\n",
              "</style>\n",
              "\n",
              "  <script>\n",
              "    async function quickchart(key) {\n",
              "      const quickchartButtonEl =\n",
              "        document.querySelector('#' + key + ' button');\n",
              "      quickchartButtonEl.disabled = true;  // To prevent multiple clicks.\n",
              "      quickchartButtonEl.classList.add('colab-df-spinner');\n",
              "      try {\n",
              "        const charts = await google.colab.kernel.invokeFunction(\n",
              "            'suggestCharts', [key], {});\n",
              "      } catch (error) {\n",
              "        console.error('Error during call to suggestCharts:', error);\n",
              "      }\n",
              "      quickchartButtonEl.classList.remove('colab-df-spinner');\n",
              "      quickchartButtonEl.classList.add('colab-df-quickchart-complete');\n",
              "    }\n",
              "    (() => {\n",
              "      let quickchartButtonEl =\n",
              "        document.querySelector('#df-68f819ab-20ef-4b1f-a5e3-535f03178f1f button');\n",
              "      quickchartButtonEl.style.display =\n",
              "        google.colab.kernel.accessAllowed ? 'block' : 'none';\n",
              "    })();\n",
              "  </script>\n",
              "</div>\n",
              "\n",
              "    </div>\n",
              "  </div>\n"
            ],
            "application/vnd.google.colaboratory.intrinsic+json": {
              "type": "dataframe",
              "variable_name": "state"
            }
          },
          "metadata": {},
          "execution_count": 123
        }
      ],
      "source": [
        "state = pd.read_csv(\"/content/states_edu.csv\")\n",
        "state.head()"
      ]
    },
    {
      "cell_type": "markdown",
      "metadata": {
        "id": "g_QB9yamfeq2"
      },
      "source": [
        "<h2>Exploratory Data Analysis (EDA) </h2>"
      ]
    },
    {
      "cell_type": "markdown",
      "metadata": {
        "id": "qvgPVjeXfeq2"
      },
      "source": [
        "Chosen one of Grade 4 Reading, Grade 4 Math, or Grade 8 Math to focus on: Grade 4 Reading"
      ]
    },
    {
      "cell_type": "markdown",
      "metadata": {
        "id": "hjbQJASSfeq2"
      },
      "source": [
        "How many years of data are logged in our dataset?"
      ]
    },
    {
      "cell_type": "code",
      "execution_count": null,
      "metadata": {
        "id": "qfC_EpcLfeq2",
        "colab": {
          "base_uri": "https://localhost:8080/"
        },
        "outputId": "e0811e09-0a65-40dc-de25-7068020c9cc1"
      },
      "outputs": [
        {
          "output_type": "stream",
          "name": "stdout",
          "text": [
            "[1992 1993 1994 1995 1996 1997 1998 1999 2000 2001 2002 2003 2004 2005\n",
            " 2006 2007 2008 2009 2010 2011 2012 2013 2014 2015 2016 1986 1987 1988\n",
            " 1989 1990 1991 2017 2019]\n"
          ]
        }
      ],
      "source": [
        "print(state['YEAR'].unique())"
      ]
    },
    {
      "cell_type": "markdown",
      "metadata": {
        "id": "ve2S0xn6feq2"
      },
      "source": [
        "Let's compare Michigan to Ohio. Which state has the higher average across all years in the test you chose?"
      ]
    },
    {
      "cell_type": "code",
      "execution_count": null,
      "metadata": {
        "id": "X7hEuSyyfeq2",
        "colab": {
          "base_uri": "https://localhost:8080/"
        },
        "collapsed": true,
        "outputId": "ef38eac0-f09e-4340-c629-3c9a4e4320df"
      },
      "outputs": [
        {
          "output_type": "stream",
          "name": "stdout",
          "text": [
            "Michigan Average 217.83333333333334\n",
            "Ohio Average 223.1818181818182\n"
          ]
        }
      ],
      "source": [
        "#df = state.groupby('YEAR')['AVG_READING_4_SCORE'].mean()\n",
        "#state['AVG_READING_4_SCORE'].fillna(df.mean(),inplace = True)\n",
        "#print(state.groupby('YEAR')['AVG_READING_4_SCORE'].mean())\n",
        "\n",
        "print(\"Michigan Average\", state[state['STATE'] == 'MICHIGAN']['AVG_READING_4_SCORE'].mean())\n",
        "\n",
        "\n",
        "print(\"Ohio Average\", state[state['STATE'] == 'OHIO']['AVG_READING_4_SCORE'].mean())"
      ]
    },
    {
      "cell_type": "markdown",
      "metadata": {
        "id": "O6NGAq16feq2"
      },
      "source": [
        "Find the average for your chosen test across all states in 2019"
      ]
    },
    {
      "cell_type": "code",
      "execution_count": null,
      "metadata": {
        "id": "8Fyv7_Ccfeq3",
        "colab": {
          "base_uri": "https://localhost:8080/"
        },
        "outputId": "bff4b239-ade0-4d87-b072-0940345b268d"
      },
      "outputs": [
        {
          "output_type": "stream",
          "name": "stdout",
          "text": [
            "average 219.79245283018867\n"
          ]
        }
      ],
      "source": [
        "print(\"average\", state[state['YEAR'] == 2019]['AVG_READING_4_SCORE'].mean())"
      ]
    },
    {
      "cell_type": "markdown",
      "metadata": {
        "id": "2Qf9r_fufeq3"
      },
      "source": [
        "For each state, find a maximum value for your chosen test score"
      ]
    },
    {
      "cell_type": "code",
      "execution_count": null,
      "metadata": {
        "id": "Y9Ocr0dyfeq3",
        "colab": {
          "base_uri": "https://localhost:8080/"
        },
        "outputId": "bdf69bce-c26d-4a7d-b8c2-d58e8a9cc7a6"
      },
      "outputs": [
        {
          "output_type": "stream",
          "name": "stdout",
          "text": [
            "                                    PRIMARY_KEY  YEAR     ENROLL  \\\n",
            "STATE                                                              \n",
            "ALABAMA                            2019_ALABAMA  2019   748889.0   \n",
            "ALASKA                              2019_ALASKA  2019   133508.0   \n",
            "ARIZONA                            2019_ARIZONA  2019   987332.0   \n",
            "ARKANSAS                          2019_ARKANSAS  2019   479881.0   \n",
            "CALIFORNIA                      2019_CALIFORNIA  2019  6307022.0   \n",
            "COLORADO                          2019_COLORADO  2019   880678.0   \n",
            "CONNECTICUT                    2019_CONNECTICUT  2019   552512.0   \n",
            "DELAWARE                          2019_DELAWARE  2019   121845.0   \n",
            "DISTRICT_OF_COLUMBIA  2019_DISTRICT_OF_COLUMBIA  2019    80937.0   \n",
            "DODEA                                2019_DODEA  2019        NaN   \n",
            "FLORIDA                            2019_FLORIDA  2019  2776933.0   \n",
            "GEORGIA                            2019_GEORGIA  2019  1727085.0   \n",
            "HAWAII                              2019_HAWAII  2019   189887.0   \n",
            "IDAHO                                2019_IDAHO  2019   281452.0   \n",
            "ILLINOIS                          2019_ILLINOIS  2019  2117291.0   \n",
            "INDIANA                            2019_INDIANA  2019  1034588.0   \n",
            "IOWA                                  2019_IOWA  2019   508014.0   \n",
            "KANSAS                              2019_KANSAS  2019   496920.0   \n",
            "KENTUCKY                          2019_KENTUCKY  2019   688475.0   \n",
            "LOUISIANA                        2019_LOUISIANA  2019   808798.0   \n",
            "MAINE                                2019_MAINE  2019   213601.0   \n",
            "MARYLAND                          2019_MARYLAND  2019   879196.0   \n",
            "MASSACHUSETTS                2019_MASSACHUSETTS  2019   967200.0   \n",
            "MICHIGAN                          2019_MICHIGAN  2019  1764327.0   \n",
            "MINNESOTA                        2019_MINNESOTA  2019   843802.0   \n",
            "MISSISSIPPI                    2019_MISSISSIPPI  2019   504792.0   \n",
            "MISSOURI                          2019_MISSOURI  2019   921625.0   \n",
            "MONTANA                            2019_MONTANA  2019   165390.0   \n",
            "NATIONAL                          2019_NATIONAL  2019        NaN   \n",
            "NEBRASKA                          2019_NEBRASKA  2019   315542.0   \n",
            "NEVADA                              2019_NEVADA  2019   441623.0   \n",
            "NEW_HAMPSHIRE                2019_NEW_HAMPSHIRE  2019   204721.0   \n",
            "NEW_JERSEY                      2019_NEW_JERSEY  2019  1399409.0   \n",
            "NEW_MEXICO                      2019_NEW_MEXICO  2019   332849.0   \n",
            "NEW_YORK                          2019_NEW_YORK  2019  2879228.0   \n",
            "NORTH_CAROLINA              2019_NORTH_CAROLINA  2019  1468228.0   \n",
            "NORTH_DAKOTA                  2019_NORTH_DAKOTA  2019   119288.0   \n",
            "OHIO                                  2019_OHIO  2019  1846585.0   \n",
            "OKLAHOMA                          2019_OKLAHOMA  2019   672777.0   \n",
            "OREGON                              2019_OREGON  2019   574252.0   \n",
            "PENNSYLVANIA                  2019_PENNSYLVANIA  2019  1791100.0   \n",
            "RHODE_ISLAND                  2019_RHODE_ISLAND  2019   157286.0   \n",
            "SOUTH_CAROLINA              2019_SOUTH_CAROLINA  2019   743320.0   \n",
            "SOUTH_DAKOTA                  2019_SOUTH_DAKOTA  2019   136394.0   \n",
            "TENNESSEE                        2019_TENNESSEE  2019   999265.0   \n",
            "TEXAS                                2019_TEXAS  2019  5053291.0   \n",
            "UTAH                                  2019_UTAH  2019   580215.0   \n",
            "VERMONT                            2019_VERMONT  2019   101584.0   \n",
            "VIRGINIA                          2019_VIRGINIA  2019  1283493.0   \n",
            "WASHINGTON                      2019_WASHINGTON  2019  1083973.0   \n",
            "WEST_VIRGINIA                2019_WEST_VIRGINIA  2019   317719.0   \n",
            "WISCONSIN                        2019_WISCONSIN  2019   881552.0   \n",
            "WYOMING                            2019_WYOMING  2019   100899.0   \n",
            "\n",
            "                      TOTAL_REVENUE  FEDERAL_REVENUE  STATE_REVENUE  \\\n",
            "STATE                                                                 \n",
            "ALABAMA                   7726213.0        1134111.0      4649053.0   \n",
            "ALASKA                    2920986.0         420152.0      2026555.0   \n",
            "ARIZONA                   9272152.0        1579806.0      4458836.0   \n",
            "ARKANSAS                  5401016.0         827026.0      4122377.0   \n",
            "CALIFORNIA               89217262.0        9990221.0     50904567.0   \n",
            "COLORADO                 10123271.0         969288.0      4365019.0   \n",
            "CONNECTICUT              11419673.0         818573.0      4411204.0   \n",
            "DELAWARE                  2043577.0         192182.0      1172219.0   \n",
            "DISTRICT_OF_COLUMBIA      1382282.0         184825.0            0.0   \n",
            "DODEA                           NaN              NaN            NaN   \n",
            "FLORIDA                  30001821.0        4710376.0     11830218.0   \n",
            "GEORGIA                  19403453.0        2598486.0      8771192.0   \n",
            "HAWAII                    3030519.0         392837.0      2710361.0   \n",
            "IDAHO                     2266490.0         444112.0      1459554.0   \n",
            "ILLINOIS                 32908958.0        3809939.0     12053316.0   \n",
            "INDIANA                  14023240.0        1477561.0      7780711.0   \n",
            "IOWA                      6919477.0         728361.0      3583134.0   \n",
            "KANSAS                    6069563.0         673692.0      3967809.0   \n",
            "KENTUCKY                  7745928.0        1164688.0      4269100.0   \n",
            "LOUISIANA                 8477993.0        1549575.0      3588546.0   \n",
            "MAINE                     2845391.0         320917.0      1122001.0   \n",
            "MARYLAND                 14491642.0        1255964.0      6334951.0   \n",
            "MASSACHUSETTS            17484704.0        1197383.0      6808436.0   \n",
            "MICHIGAN                 20576110.0        2525528.0     11383198.0   \n",
            "MINNESOTA                12186135.0        1245368.0      7887346.0   \n",
            "MISSISSIPPI               4755399.0        1006465.0      2411621.0   \n",
            "MISSOURI                 10893231.0        1430854.0      4568867.0   \n",
            "MONTANA                   1804339.0         264517.0       851068.0   \n",
            "NATIONAL                        NaN              NaN            NaN   \n",
            "NEBRASKA                  4398811.0         571969.0      1437048.0   \n",
            "NEVADA                    4482886.0         447002.0      2816911.0   \n",
            "NEW_HAMPSHIRE             3150473.0         187243.0      1061011.0   \n",
            "NEW_JERSEY               30012666.0        2386865.0     11681799.0   \n",
            "NEW_MEXICO                3789651.0         753816.0      2615320.0   \n",
            "NEW_YORK                 66912661.0        5118477.0     27437593.0   \n",
            "NORTH_CAROLINA           16621268.0        2046954.0      8287126.0   \n",
            "NORTH_DAKOTA              1788749.0         277985.0       985365.0   \n",
            "OHIO                     24378660.0        2533882.0     10226228.0   \n",
            "OKLAHOMA                  6121188.0         968529.0      3014993.0   \n",
            "OREGON                    7418055.0         848637.0      3861438.0   \n",
            "PENNSYLVANIA             31077289.0        3371827.0     11181046.0   \n",
            "RHODE_ISLAND              2401541.0         247217.0       940989.0   \n",
            "SOUTH_CAROLINA            9161667.0        1058473.0      4262164.0   \n",
            "SOUTH_DAKOTA              1455737.0         262395.0       438629.0   \n",
            "TENNESSEE                 9585331.0        1272825.0      4395757.0   \n",
            "TEXAS                    58284155.0        7984614.0     22004299.0   \n",
            "UTAH                      4952923.0         570301.0      2533573.0   \n",
            "VERMONT                   2112365.0         173528.0      1614518.0   \n",
            "VIRGINIA                 16259274.0        1532041.0      6317714.0   \n",
            "WASHINGTON               14964364.0        1400984.0      9211201.0   \n",
            "WEST_VIRGINIA             3970941.0         513794.0      2033948.0   \n",
            "WISCONSIN                11697466.0        1258519.0      5986763.0   \n",
            "WYOMING                   2044669.0         154955.0      1175899.0   \n",
            "\n",
            "                      LOCAL_REVENUE  TOTAL_EXPENDITURE  \\\n",
            "STATE                                                    \n",
            "ALABAMA                   2603240.0          7847387.0   \n",
            "ALASKA                     573696.0          2968341.0   \n",
            "ARIZONA                   4128871.0          9581201.0   \n",
            "ARKANSAS                   835486.0          5669431.0   \n",
            "CALIFORNIA               30603616.0         85320133.0   \n",
            "COLORADO                  5044338.0          9878524.0   \n",
            "CONNECTICUT               6539874.0         10826431.0   \n",
            "DELAWARE                   737198.0          2041952.0   \n",
            "DISTRICT_OF_COLUMBIA      1235916.0          1360942.0   \n",
            "DODEA                           NaN                NaN   \n",
            "FLORIDA                  15691385.0         31219589.0   \n",
            "GEORGIA                   8824890.0         19172087.0   \n",
            "HAWAII                      91889.0          2733094.0   \n",
            "IDAHO                      628178.0          2100980.0   \n",
            "ILLINOIS                 18523918.0         33037244.0   \n",
            "INDIANA                   5790709.0         11535287.0   \n",
            "IOWA                      3069526.0          6972412.0   \n",
            "KANSAS                    2129558.0          6175724.0   \n",
            "KENTUCKY                  2596532.0          7786281.0   \n",
            "LOUISIANA                 3895318.0          8504567.0   \n",
            "MAINE                     1584947.0          2728535.0   \n",
            "MARYLAND                  7404856.0         13992191.0   \n",
            "MASSACHUSETTS             9949575.0         17037880.0   \n",
            "MICHIGAN                  7778516.0         20703780.0   \n",
            "MINNESOTA                 3779550.0         12848946.0   \n",
            "MISSISSIPPI               1653054.0          4631356.0   \n",
            "MISSOURI                  5399709.0         10719882.0   \n",
            "MONTANA                    739765.0          1879789.0   \n",
            "NATIONAL                        NaN                NaN   \n",
            "NEBRASKA                  2614937.0          4640422.0   \n",
            "NEVADA                    1744553.0          4881218.0   \n",
            "NEW_HAMPSHIRE             1976554.0          3124778.0   \n",
            "NEW_JERSEY               17143437.0         29665476.0   \n",
            "NEW_MEXICO                 694180.0          3945515.0   \n",
            "NEW_YORK                 36105265.0         68282026.0   \n",
            "NORTH_CAROLINA            7242123.0         14868070.0   \n",
            "NORTH_DAKOTA               647931.0          1963630.0   \n",
            "OHIO                     12807744.0         23352516.0   \n",
            "OKLAHOMA                  2504321.0          6184819.0   \n",
            "OREGON                    2974057.0          7501954.0   \n",
            "PENNSYLVANIA             17991950.0         30925177.0   \n",
            "RHODE_ISLAND              1285173.0          2358654.0   \n",
            "SOUTH_CAROLINA            4058717.0          9187299.0   \n",
            "SOUTH_DAKOTA               820464.0          1475864.0   \n",
            "TENNESSEE                 4094159.0          9680512.0   \n",
            "TEXAS                    30326508.0         59314884.0   \n",
            "UTAH                      2025290.0          4923657.0   \n",
            "VERMONT                    791317.0          2082696.0   \n",
            "VIRGINIA                  8903541.0         16497520.0   \n",
            "WASHINGTON                4655479.0         15253296.0   \n",
            "WEST_VIRGINIA             1524701.0          3670119.0   \n",
            "WISCONSIN                 5446300.0         11787535.0   \n",
            "WYOMING                    745758.0          2034229.0   \n",
            "\n",
            "                      INSTRUCTION_EXPENDITURE  SUPPORT_SERVICES_EXPENDITURE  \\\n",
            "STATE                                                                         \n",
            "ALABAMA                             3947003.0                     2439634.0   \n",
            "ALASKA                              1484610.0                     1068849.0   \n",
            "ARIZONA                             4296503.0                     2983729.0   \n",
            "ARKANSAS                            2658253.0                     1802769.0   \n",
            "CALIFORNIA                         42587272.0                    26058021.0   \n",
            "COLORADO                            4786838.0                     3333043.0   \n",
            "CONNECTICUT                         6110631.0                     3307162.0   \n",
            "DELAWARE                            1126775.0                      588181.0   \n",
            "DISTRICT_OF_COLUMBIA                 594396.0                      450060.0   \n",
            "DODEA                                     NaN                           NaN   \n",
            "FLORIDA                            15212112.0                     8465282.0   \n",
            "GEORGIA                            10534931.0                     5554271.0   \n",
            "HAWAII                              1468044.0                      901508.0   \n",
            "IDAHO                               1171313.0                      689190.0   \n",
            "ILLINOIS                           17804976.0                    10426170.0   \n",
            "INDIANA                             5746633.0                     3712136.0   \n",
            "IOWA                                3447707.0                     1978260.0   \n",
            "KANSAS                              3051755.0                     1692953.0   \n",
            "KENTUCKY                            3917968.0                     2425472.0   \n",
            "LOUISIANA                           4365583.0                     2793437.0   \n",
            "MAINE                               1459635.0                      938187.0   \n",
            "MARYLAND                            7779504.0                     4358416.0   \n",
            "MASSACHUSETTS                       9991819.0                     5043032.0   \n",
            "MICHIGAN                            9608877.0                     6735708.0   \n",
            "MINNESOTA                           6548885.0                     3016934.0   \n",
            "MISSISSIPPI                         2407637.0                     1551274.0   \n",
            "MISSOURI                            5488433.0                     3298811.0   \n",
            "MONTANA                              973199.0                      599074.0   \n",
            "NATIONAL                                  NaN                           NaN   \n",
            "NEBRASKA                            2526973.0                     1149107.0   \n",
            "NEVADA                              2288790.0                     1505591.0   \n",
            "NEW_HAMPSHIRE                       1743022.0                      959654.0   \n",
            "NEW_JERSEY                         15831343.0                     9549742.0   \n",
            "NEW_MEXICO                          1807514.0                     1256303.0   \n",
            "NEW_YORK                           43964520.0                    15883500.0   \n",
            "NORTH_CAROLINA                      8060544.0                     4102549.0   \n",
            "NORTH_DAKOTA                         867650.0                      483984.0   \n",
            "OHIO                               12247509.0                     7570565.0   \n",
            "OKLAHOMA                            3047217.0                     2041507.0   \n",
            "OREGON                              3834741.0                     2367410.0   \n",
            "PENNSYLVANIA                       16717308.0                     8464573.0   \n",
            "RHODE_ISLAND                        1340088.0                      811796.0   \n",
            "SOUTH_CAROLINA                      4274682.0                     3013294.0   \n",
            "SOUTH_DAKOTA                         730176.0                      440580.0   \n",
            "TENNESSEE                           5401812.0                     2915193.0   \n",
            "TEXAS                              27862199.0                    15169007.0   \n",
            "UTAH                                2591600.0                     1217100.0   \n",
            "VERMONT                             1013209.0                      583178.0   \n",
            "VIRGINIA                            8944614.0                     5164699.0   \n",
            "WASHINGTON                          7087365.0                     4904575.0   \n",
            "WEST_VIRGINIA                       2010407.0                     1161944.0   \n",
            "WISCONSIN                           6138402.0                     3691809.0   \n",
            "WYOMING                              921494.0                      585700.0   \n",
            "\n",
            "                      ...  GRADES_4_G  GRADES_8_G  GRADES_12_G  GRADES_1_8_G  \\\n",
            "STATE                 ...                                                      \n",
            "ALABAMA               ...     60012.0     60004.0      52848.0      473954.0   \n",
            "ALASKA                ...     10926.0     11140.0      10092.0       85124.0   \n",
            "ARIZONA               ...     89184.0     86312.0      86960.0      694046.0   \n",
            "ARKANSAS              ...     38800.0     37369.0      33097.0      297045.0   \n",
            "CALIFORNIA            ...    493415.0    500143.0     498403.0     3929869.0   \n",
            "COLORADO              ...     69784.0     67854.0      68112.0      543056.0   \n",
            "CONNECTICUT           ...     45307.0     45854.0      41381.0      357061.0   \n",
            "DELAWARE              ...     10838.0     10494.0       9100.0       84105.0   \n",
            "DISTRICT_OF_COLUMBIA  ...      6339.0      6085.0       4806.0       46680.0   \n",
            "DODEA                 ...         NaN         NaN          NaN           NaN   \n",
            "FLORIDA               ...    220504.0    211073.0     202952.0     1707618.0   \n",
            "GEORGIA               ...    138249.0    133128.0     115678.0     1071088.0   \n",
            "HAWAII                ...     15703.0     14543.0      11326.0      120253.0   \n",
            "IDAHO                 ...     24003.0     23414.0      21512.0      184940.0   \n",
            "ILLINOIS              ...    160495.0    162192.0     150045.0     1277009.0   \n",
            "INDIANA               ...     82387.0     82728.0      80475.0      643350.0   \n",
            "IOWA                  ...     37980.0     39039.0      39114.0      295181.0   \n",
            "KANSAS                ...     37692.0     37189.0      34437.0      294230.0   \n",
            "KENTUCKY              ...     52487.0     51306.0      45593.0      412196.0   \n",
            "LOUISIANA             ...     63884.0     61997.0      45114.0      474287.0   \n",
            "MAINE                 ...     17419.0     17493.0      16322.0      135272.0   \n",
            "MARYLAND              ...     70330.0     69567.0      61767.0      535023.0   \n",
            "MASSACHUSETTS         ...     79385.0     78635.0      71684.0      612594.0   \n",
            "MICHIGAN              ...    134163.0    139797.0     126380.0     1065655.0   \n",
            "MINNESOTA             ...     67226.0     67909.0      74749.0      524829.0   \n",
            "MISSISSIPPI           ...     41820.0     39970.0      30933.0      316525.0   \n",
            "MISSOURI              ...     71928.0     74436.0      67254.0      559654.0   \n",
            "MONTANA               ...     13009.0     13342.0      11611.0       99668.0   \n",
            "NATIONAL              ...         NaN         NaN          NaN           NaN   \n",
            "NEBRASKA              ...     24169.0     23722.0      24349.0      187301.0   \n",
            "NEVADA                ...     38624.0     36389.0      33456.0      293071.0   \n",
            "NEW_HAMPSHIRE         ...     17275.0     17703.0      15959.0      135657.0   \n",
            "NEW_JERSEY            ...    101704.0    104437.0      98845.0      813471.0   \n",
            "NEW_MEXICO            ...     26363.0     26211.0      21573.0      207116.0   \n",
            "NEW_YORK              ...    219305.0    219335.0     194079.0     1718478.0   \n",
            "NORTH_CAROLINA        ...    122866.0    119636.0     105208.0      947000.0   \n",
            "NORTH_DAKOTA          ...      9614.0      9943.0       9306.0       71244.0   \n",
            "OHIO                  ...    143373.0    147161.0     137196.0     1134596.0   \n",
            "OKLAHOMA              ...     52385.0     49462.0      43534.0      409754.0   \n",
            "OREGON                ...     46543.0     44802.0      48735.0      356642.0   \n",
            "PENNSYLVANIA          ...    142366.0    151250.0     153112.0     1130386.0   \n",
            "RHODE_ISLAND          ...     12717.0     13018.0      10848.0      100850.0   \n",
            "SOUTH_CAROLINA        ...     60890.0     57033.0      50100.0      466891.0   \n",
            "SOUTH_DAKOTA          ...     11116.0     11654.0       9939.0       86013.0   \n",
            "TENNESSEE             ...     78472.0     74909.0      69498.0      606195.0   \n",
            "TEXAS                 ...    413843.0    398662.0     345243.0     3215536.0   \n",
            "UTAH                  ...     52970.0     50627.0      46516.0      407669.0   \n",
            "VERMONT               ...      8457.0      8375.0       7714.0       65190.0   \n",
            "VIRGINIA              ...     99305.0     96881.0      93121.0      773615.0   \n",
            "WASHINGTON            ...     87366.0     82274.0      91892.0      667327.0   \n",
            "WEST_VIRGINIA         ...     26266.0     27392.0      23488.0      179434.0   \n",
            "WISCONSIN             ...     65996.0     68663.0      72380.0      523149.0   \n",
            "WYOMING               ...      8269.0      8302.0       7129.0       59453.0   \n",
            "\n",
            "                      GRADES_9_12_G  GRADES_ALL_G  AVG_MATH_4_SCORE  \\\n",
            "STATE                                                                 \n",
            "ALABAMA                    222638.0      755552.0             233.0   \n",
            "ALASKA                      42441.0      135373.0             237.0   \n",
            "ARIZONA                    354901.0     1123137.0             240.0   \n",
            "ARKANSAS                   143487.0      496085.0             240.0   \n",
            "CALIFORNIA                2013687.0     6441557.0             235.0   \n",
            "COLORADO                   270405.0      910280.0             247.0   \n",
            "CONNECTICUT                177037.0      577390.0             245.0   \n",
            "DELAWARE                    40903.0      136293.0             243.0   \n",
            "DISTRICT_OF_COLUMBIA        20242.0       87315.0             235.0   \n",
            "DODEA                           NaN           NaN             250.0   \n",
            "FLORIDA                    851483.0     2832424.0             246.0   \n",
            "GEORGIA                    522034.0     1768642.0             240.0   \n",
            "HAWAII                      55258.0      189887.0             243.0   \n",
            "IDAHO                       90256.0      301186.0             242.0   \n",
            "ILLINOIS                   640597.0     2119707.0             239.0   \n",
            "INDIANA                    325521.0     1054187.0             249.0   \n",
            "IOWA                       157322.0      511850.0             246.0   \n",
            "KANSAS                     144334.0      497275.0             248.0   \n",
            "KENTUCKY                   198841.0      688640.0             242.0   \n",
            "LOUISIANA                  207966.0      800560.0             234.0   \n",
            "MAINE                       65503.0      216995.0             246.0   \n",
            "MARYLAND                   272575.0      893684.0             247.0   \n",
            "MASSACHUSETTS              298033.0      982989.0             253.0   \n",
            "MICHIGAN                   549291.0     1785160.0             238.0   \n",
            "MINNESOTA                  282120.0      884944.0             253.0   \n",
            "MISSISSIPPI                137511.0      506668.0             241.0   \n",
            "MISSOURI                   286078.0      920353.0             241.0   \n",
            "MONTANA                     50348.0      165547.0             244.0   \n",
            "NATIONAL                        NaN           NaN             242.0   \n",
            "NEBRASKA                    94935.0      323766.0             246.0   \n",
            "NEVADA                     141950.0      485785.0             237.0   \n",
            "NEW_HAMPSHIRE               67384.0      208461.0             253.0   \n",
            "NEW_JERSEY                 412848.0     1410421.0             249.0   \n",
            "NEW_MEXICO                  99856.0      340365.0             233.0   \n",
            "NEW_YORK                   858087.0     2888233.0             243.0   \n",
            "NORTH_CAROLINA             470877.0     1553513.0             245.0   \n",
            "NORTH_DAKOTA                38242.0      120123.0             246.0   \n",
            "OHIO                       585862.0     1847114.0             246.0   \n",
            "OKLAHOMA                   191296.0      695092.0             240.0   \n",
            "OREGON                     181719.0      608014.0             240.0   \n",
            "PENNSYLVANIA               648688.0     1871060.0             246.0   \n",
            "RHODE_ISLAND                49616.0      159375.0             242.0   \n",
            "SOUTH_CAROLINA             224093.0      777507.0             238.0   \n",
            "SOUTH_DAKOTA                44300.0      144685.0             242.0   \n",
            "TENNESSEE                  293535.0     1001967.0             241.0   \n",
            "TEXAS                     1548389.0     5401341.0             244.0   \n",
            "UTAH                       193167.0      668274.0             244.0   \n",
            "VERMONT                     32195.0      106341.0             248.0   \n",
            "VIRGINIA                   391435.0     1291462.0             248.0   \n",
            "WASHINGTON                 340375.0     1110367.0             246.0   \n",
            "WEST_VIRGINIA               94012.0      351837.0             237.0   \n",
            "WISCONSIN                  292100.0      881780.0             245.0   \n",
            "WYOMING                     31388.0      102074.0             248.0   \n",
            "\n",
            "                      AVG_MATH_8_SCORE  AVG_READING_4_SCORE  \\\n",
            "STATE                                                         \n",
            "ALABAMA                          269.0                220.0   \n",
            "ALASKA                           283.0                214.0   \n",
            "ARIZONA                          283.0                216.0   \n",
            "ARKANSAS                         279.0                219.0   \n",
            "CALIFORNIA                       277.0                216.0   \n",
            "COLORADO                         292.0                227.0   \n",
            "CONNECTICUT                      289.0                230.0   \n",
            "DELAWARE                         284.0                226.0   \n",
            "DISTRICT_OF_COLUMBIA             269.0                214.0   \n",
            "DODEA                            293.0                235.0   \n",
            "FLORIDA                          281.0                228.0   \n",
            "GEORGIA                          281.0                222.0   \n",
            "HAWAII                           281.0                218.0   \n",
            "IDAHO                            287.0                223.0   \n",
            "ILLINOIS                         285.0                222.0   \n",
            "INDIANA                          288.0                227.0   \n",
            "IOWA                             286.0                225.0   \n",
            "KANSAS                           290.0                225.0   \n",
            "KENTUCKY                         282.0                228.0   \n",
            "LOUISIANA                        273.0                216.0   \n",
            "MAINE                            289.0                228.0   \n",
            "MARYLAND                         288.0                232.0   \n",
            "MASSACHUSETTS                    301.0                237.0   \n",
            "MICHIGAN                         280.0                220.0   \n",
            "MINNESOTA                        295.0                227.0   \n",
            "MISSISSIPPI                      274.0                219.0   \n",
            "MISSOURI                         286.0                224.0   \n",
            "MONTANA                          293.0                227.0   \n",
            "NATIONAL                         285.0                223.0   \n",
            "NEBRASKA                         288.0                227.0   \n",
            "NEVADA                           278.0                218.0   \n",
            "NEW_HAMPSHIRE                    296.0                232.0   \n",
            "NEW_JERSEY                       296.0                233.0   \n",
            "NEW_MEXICO                       274.0                212.0   \n",
            "NEW_YORK                         283.0                224.0   \n",
            "NORTH_CAROLINA                   286.0                226.0   \n",
            "NORTH_DAKOTA                     293.0                226.0   \n",
            "OHIO                             290.0                226.0   \n",
            "OKLAHOMA                         279.0                222.0   \n",
            "OREGON                           285.0                220.0   \n",
            "PENNSYLVANIA                     290.0                227.0   \n",
            "RHODE_ISLAND                     284.0                225.0   \n",
            "SOUTH_CAROLINA                   282.0                218.0   \n",
            "SOUTH_DAKOTA                     291.0                223.0   \n",
            "TENNESSEE                        280.0                220.0   \n",
            "TEXAS                            290.0                220.0   \n",
            "UTAH                             287.0                226.0   \n",
            "VERMONT                          295.0                230.0   \n",
            "VIRGINIA                         290.0                229.0   \n",
            "WASHINGTON                       290.0                226.0   \n",
            "WEST_VIRGINIA                    274.0                219.0   \n",
            "WISCONSIN                        289.0                224.0   \n",
            "WYOMING                          289.0                228.0   \n",
            "\n",
            "                      AVG_READING_8_SCORE  \n",
            "STATE                                      \n",
            "ALABAMA                             259.0  \n",
            "ALASKA                              261.0  \n",
            "ARIZONA                             263.0  \n",
            "ARKANSAS                            262.0  \n",
            "CALIFORNIA                          263.0  \n",
            "COLORADO                            271.0  \n",
            "CONNECTICUT                         275.0  \n",
            "DELAWARE                            267.0  \n",
            "DISTRICT_OF_COLUMBIA                250.0  \n",
            "DODEA                               280.0  \n",
            "FLORIDA                             267.0  \n",
            "GEORGIA                             266.0  \n",
            "HAWAII                              261.0  \n",
            "IDAHO                               270.0  \n",
            "ILLINOIS                            267.0  \n",
            "INDIANA                             272.0  \n",
            "IOWA                                269.0  \n",
            "KANSAS                              269.0  \n",
            "KENTUCKY                            270.0  \n",
            "LOUISIANA                           257.0  \n",
            "MAINE                               271.0  \n",
            "MARYLAND                            274.0  \n",
            "MASSACHUSETTS                       278.0  \n",
            "MICHIGAN                            266.0  \n",
            "MINNESOTA                           271.0  \n",
            "MISSISSIPPI                         256.0  \n",
            "MISSOURI                            268.0  \n",
            "MONTANA                             273.0  \n",
            "NATIONAL                            268.0  \n",
            "NEBRASKA                            270.0  \n",
            "NEVADA                              262.0  \n",
            "NEW_HAMPSHIRE                       275.0  \n",
            "NEW_JERSEY                          276.0  \n",
            "NEW_MEXICO                          258.0  \n",
            "NEW_YORK                            266.0  \n",
            "NORTH_CAROLINA                      265.0  \n",
            "NORTH_DAKOTA                        270.0  \n",
            "OHIO                                269.0  \n",
            "OKLAHOMA                            265.0  \n",
            "OREGON                              268.0  \n",
            "PENNSYLVANIA                        272.0  \n",
            "RHODE_ISLAND                        267.0  \n",
            "SOUTH_CAROLINA                      261.0  \n",
            "SOUTH_DAKOTA                        270.0  \n",
            "TENNESSEE                           265.0  \n",
            "TEXAS                               264.0  \n",
            "UTAH                                270.0  \n",
            "VERMONT                             274.0  \n",
            "VIRGINIA                            269.0  \n",
            "WASHINGTON                          272.0  \n",
            "WEST_VIRGINIA                       264.0  \n",
            "WISCONSIN                           270.0  \n",
            "WYOMING                             271.0  \n",
            "\n",
            "[53 rows x 24 columns]\n"
          ]
        }
      ],
      "source": [
        "print((state.groupby(\"STATE\")).max())"
      ]
    },
    {
      "cell_type": "markdown",
      "metadata": {
        "id": "eXeAJ17Bfeq3"
      },
      "source": [
        "*Refer to the `Grouping and Aggregating` section in Tutorial 0 if you are stuck."
      ]
    },
    {
      "cell_type": "markdown",
      "metadata": {
        "id": "u4fuxmnEfeq3"
      },
      "source": [
        "<h2>Visualization</h2>\n",
        "\n",
        "Investigate the relationship between your chosen response variable and at least two predictors using visualizations. Write down your observations.\n",
        "\n",
        "**Visualization 1**"
      ]
    },
    {
      "cell_type": "code",
      "execution_count": null,
      "metadata": {
        "id": "rdpwY_F2feq3",
        "colab": {
          "base_uri": "https://localhost:8080/",
          "height": 489
        },
        "outputId": "99491a49-6f18-4ee8-8e67-2791a627b2ac"
      },
      "outputs": [
        {
          "output_type": "execute_result",
          "data": {
            "text/plain": [
              "<matplotlib.legend.Legend at 0x784bc294e680>"
            ]
          },
          "metadata": {},
          "execution_count": 156
        },
        {
          "output_type": "display_data",
          "data": {
            "text/plain": [
              "<Figure size 640x480 with 1 Axes>"
            ],
            "image/png": "[encoded data removed]"
          },
          "metadata": {}
        }
      ],
      "source": [
        "x = state.groupby('YEAR')[\"AVG_READING_8_SCORE\"].mean()\n",
        "x.fillna(x.median(),inplace = True)\n",
        "x.plot(label = \"Reading 8\")\n",
        "GRAPH = state.groupby('YEAR')[\"AVG_READING_4_SCORE\"].mean()\n",
        "GRAPH.fillna(GRAPH.median(),inplace = True)\n",
        "GRAPH.plot(label = \"Reading 4\")\n",
        "\n",
        "plt.xlabel(\"Grade 8 READING\")\n",
        "plt.ylabel(\"Grade 4 READING\")\n",
        "plt.title(\"AVG READING 8 & AVG READING 4\")\n",
        "plt.legend()"
      ]
    },
    {
      "cell_type": "markdown",
      "metadata": {
        "id": "xNk8Fuf1feq3"
      },
      "source": [
        "**<CAPTION FOR VIZ 1>**"
      ]
    },
    {
      "cell_type": "markdown",
      "metadata": {
        "id": "iPa9RYNLfeq3"
      },
      "source": [
        "**Visualization 2**"
      ]
    },
    {
      "cell_type": "code",
      "execution_count": null,
      "metadata": {
        "id": "BFPcmiuKfeq3",
        "colab": {
          "base_uri": "https://localhost:8080/",
          "height": 489
        },
        "outputId": "2b747efc-f321-47ab-c44b-5b83e6cc1779"
      },
      "outputs": [
        {
          "output_type": "execute_result",
          "data": {
            "text/plain": [
              "<matplotlib.legend.Legend at 0x784bc284f3a0>"
            ]
          },
          "metadata": {},
          "execution_count": 161
        },
        {
          "output_type": "display_data",
          "data": {
            "text/plain": [
              "<Figure size 640x480 with 1 Axes>"
            ],
            "image/png": "[encoded data removed]"
          },
          "metadata": {}
        }
      ],
      "source": [
        "state.groupby('YEAR')['AVG_MATH_8_SCORE'].mean()\n",
        "x = state.groupby('YEAR')[\"AVG_MATH_8_SCORE\"].mean()\n",
        "x.fillna(x.median(),inplace = True)\n",
        "x.plot(label = \"MATH 8\")\n",
        "GRAPH = state.groupby('YEAR')[\"AVG_READING_4_SCORE\"].mean()\n",
        "GRAPH.fillna(GRAPH.median(),inplace = True)\n",
        "GRAPH.plot(label = \"READING 4\")\n",
        "\n",
        "plt.xlabel(\"YEARS\")\n",
        "plt.ylabel(\"SCORE\")\n",
        "plt.title(\"AVG MATH 8 & AVG READ 4\")\n",
        "plt.legend()"
      ]
    },
    {
      "cell_type": "markdown",
      "metadata": {
        "id": "TH6zOC19feq4"
      },
      "source": [
        "**<CAPTION FOR VIZ 2>**"
      ]
    },
    {
      "cell_type": "markdown",
      "metadata": {
        "id": "JroLhn3Cfeq4"
      },
      "source": [
        "<h2> Data Creation </h2>\n",
        "\n",
        "_Use this space to create train/test data_"
      ]
    },
    {
      "cell_type": "code",
      "execution_count": null,
      "metadata": {
        "id": "MiaAG-FWfeq4"
      },
      "outputs": [],
      "source": [
        "from sklearn.model_selection import train_test_split"
      ]
    },
    {
      "cell_type": "code",
      "execution_count": null,
      "metadata": {
        "id": "CDeKtCLyfeq4"
      },
      "outputs": [],
      "source": [
        "X = state[[\"AVG_READING_8_SCORE\", \"AVG_MATH_8_SCORE\"]].dropna()\n",
        "y = state.loc[X.index][\"AVG_READING_4_SCORE\"]"
      ]
    },
    {
      "cell_type": "code",
      "execution_count": null,
      "metadata": {
        "id": "PiSyTx6mfeq4"
      },
      "outputs": [],
      "source": [
        "X_train, X_test, y_train, y_test = train_test_split( X, y, test_size=0.3, random_state=42)"
      ]
    },
    {
      "cell_type": "markdown",
      "metadata": {
        "id": "_ZhPTtb-feq4"
      },
      "source": [
        "<h2> Prediction </h2>"
      ]
    },
    {
      "cell_type": "markdown",
      "metadata": {
        "id": "0TX5GfYmfeq4"
      },
      "source": [
        "ML Models [Resource](https://medium.com/@vijaya.beeravalli/comparison-of-machine-learning-classification-models-for-credit-card-default-data-c3cf805c9a5a)"
      ]
    },
    {
      "cell_type": "code",
      "execution_count": null,
      "metadata": {
        "id": "4qFRWkLqfeq4"
      },
      "outputs": [],
      "source": [
        "from sklearn.linear_model import LinearRegression"
      ]
    },
    {
      "cell_type": "code",
      "execution_count": null,
      "metadata": {
        "id": "ZHt-tM0jfeq4"
      },
      "outputs": [],
      "source": [
        "model = LinearRegression()"
      ]
    },
    {
      "cell_type": "code",
      "execution_count": null,
      "metadata": {
        "id": "uXTIWQ2jfeq5",
        "colab": {
          "base_uri": "https://localhost:8080/",
          "height": 74
        },
        "outputId": "8ae54191-fd50-47fe-c8a6-be9aa2f17be6"
      },
      "outputs": [
        {
          "output_type": "execute_result",
          "data": {
            "text/plain": [
              "LinearRegression()"
            ],
            "text/html": [
              "<style>#sk-container-id-1 {color: black;}#sk-container-id-1 pre{padding: 0;}#sk-container-id-1 div.sk-toggleable {background-color: white;}#sk-container-id-1 label.sk-toggleable__label {cursor: pointer;display: block;width: 100%;margin-bottom: 0;padding: 0.3em;box-sizing: border-box;text-align: center;}#sk-container-id-1 label.sk-toggleable__label-arrow:before {content: \"▸\";float: left;margin-right: 0.25em;color: #696969;}#sk-container-id-1 label.sk-toggleable__label-arrow:hover:before {color: black;}#sk-container-id-1 div.sk-estimator:hover label.sk-toggleable__label-arrow:before {color: black;}#sk-container-id-1 div.sk-toggleable__content {max-height: 0;max-width: 0;overflow: hidden;text-align: left;background-color: #f0f8ff;}#sk-container-id-1 div.sk-toggleable__content pre {margin: 0.2em;color: black;border-radius: 0.25em;background-color: #f0f8ff;}#sk-container-id-1 input.sk-toggleable__control:checked~div.sk-toggleable__content {max-height: 200px;max-width: 100%;overflow: auto;}#sk-container-id-1 input.sk-toggleable__control:checked~label.sk-toggleable__label-arrow:before {content: \"▾\";}#sk-container-id-1 div.sk-estimator input.sk-toggleable__control:checked~label.sk-toggleable__label {background-color: #d4ebff;}#sk-container-id-1 div.sk-label input.sk-toggleable__control:checked~label.sk-toggleable__label {background-color: #d4ebff;}#sk-container-id-1 input.sk-hidden--visually {border: 0;clip: rect(1px 1px 1px 1px);clip: rect(1px, 1px, 1px, 1px);height: 1px;margin: -1px;overflow: hidden;padding: 0;position: absolute;width: 1px;}#sk-container-id-1 div.sk-estimator {font-family: monospace;background-color: #f0f8ff;border: 1px dotted black;border-radius: 0.25em;box-sizing: border-box;margin-bottom: 0.5em;}#sk-container-id-1 div.sk-estimator:hover {background-color: #d4ebff;}#sk-container-id-1 div.sk-parallel-item::after {content: \"\";width: 100%;border-bottom: 1px solid gray;flex-grow: 1;}#sk-container-id-1 div.sk-label:hover label.sk-toggleable__label {background-color: #d4ebff;}#sk-container-id-1 div.sk-serial::before {content: \"\";position: absolute;border-left: 1px solid gray;box-sizing: border-box;top: 0;bottom: 0;left: 50%;z-index: 0;}#sk-container-id-1 div.sk-serial {display: flex;flex-direction: column;align-items: center;background-color: white;padding-right: 0.2em;padding-left: 0.2em;position: relative;}#sk-container-id-1 div.sk-item {position: relative;z-index: 1;}#sk-container-id-1 div.sk-parallel {display: flex;align-items: stretch;justify-content: center;background-color: white;position: relative;}#sk-container-id-1 div.sk-item::before, #sk-container-id-1 div.sk-parallel-item::before {content: \"\";position: absolute;border-left: 1px solid gray;box-sizing: border-box;top: 0;bottom: 0;left: 50%;z-index: -1;}#sk-container-id-1 div.sk-parallel-item {display: flex;flex-direction: column;z-index: 1;position: relative;background-color: white;}#sk-container-id-1 div.sk-parallel-item:first-child::after {align-self: flex-end;width: 50%;}#sk-container-id-1 div.sk-parallel-item:last-child::after {align-self: flex-start;width: 50%;}#sk-container-id-1 div.sk-parallel-item:only-child::after {width: 0;}#sk-container-id-1 div.sk-dashed-wrapped {border: 1px dashed gray;margin: 0 0.4em 0.5em 0.4em;box-sizing: border-box;padding-bottom: 0.4em;background-color: white;}#sk-container-id-1 div.sk-label label {font-family: monospace;font-weight: bold;display: inline-block;line-height: 1.2em;}#sk-container-id-1 div.sk-label-container {text-align: center;}#sk-container-id-1 div.sk-container {/* jupyter's `normalize.less` sets `[hidden] { display: none; }` but bootstrap.min.css set `[hidden] { display: none !important; }` so we also need the `!important` here to be able to override the default hidden behavior on the sphinx rendered scikit-learn.org. See: https://github.com/scikit-learn/scikit-learn/issues/21755 */display: inline-block !important;position: relative;}#sk-container-id-1 div.sk-text-repr-fallback {display: none;}</style><div id=\"sk-container-id-1\" class=\"sk-top-container\"><div class=\"sk-text-repr-fallback\"><pre>LinearRegression()</pre><b>In a Jupyter environment, please rerun this cell to show the HTML representation or trust the notebook. <br />On GitHub, the HTML representation is unable to render, please try loading this page with nbviewer.org.</b></div><div class=\"sk-container\" hidden><div class=\"sk-item\"><div class=\"sk-estimator sk-toggleable\"><input class=\"sk-toggleable__control sk-hidden--visually\" id=\"sk-estimator-id-1\" type=\"checkbox\" checked><label for=\"sk-estimator-id-1\" class=\"sk-toggleable__label sk-toggleable__label-arrow\">LinearRegression</label><div class=\"sk-toggleable__content\"><pre>LinearRegression()</pre></div></div></div></div></div>"
            ]
          },
          "metadata": {},
          "execution_count": 172
        }
      ],
      "source": [
        "model.fit(X_train, y_train)"
      ]
    },
    {
      "cell_type": "code",
      "execution_count": null,
      "metadata": {
        "id": "yQMyo8dXfeq5"
      },
      "outputs": [],
      "source": [
        "y_pred = model.predict(X_test)"
      ]
    },
    {
      "cell_type": "markdown",
      "metadata": {
        "id": "yz9lICAlfeq6"
      },
      "source": [
        "## Evaluation"
      ]
    },
    {
      "cell_type": "markdown",
      "metadata": {
        "id": "pUrcE1z2feq6"
      },
      "source": [
        "Choose some metrics to evaluate the performance of your model, some of them are mentioned in the tutorial."
      ]
    },
    {
      "cell_type": "code",
      "execution_count": null,
      "metadata": {
        "id": "tVwbvj9cfeq6",
        "colab": {
          "base_uri": "https://localhost:8080/"
        },
        "outputId": "cb39f0de-4183-4bcb-add9-358f56b37808"
      },
      "outputs": [
        {
          "output_type": "stream",
          "name": "stdout",
          "text": [
            "r *2 score:  0.8281271574321372\n"
          ]
        },
        {
          "output_type": "execute_result",
          "data": {
            "text/plain": [
              "7.684338974751777"
            ]
          },
          "metadata": {},
          "execution_count": 174
        }
      ],
      "source": [
        "print(\"r *2 score: \", model.score(X_test, y_test))\n",
        "\n",
        "np.mean((model.predict(X_test)-y_test)**2)"
      ]
    },
    {
      "cell_type": "markdown",
      "metadata": {
        "id": "HXdf2o51feq6"
      },
      "source": [
        "We have copied over the graphs that visualize the model's performance on the training and testing set.\n",
        "\n",
        "Change `col_name` and modify the call to `plt.ylabel()` to isolate how a single predictor affects the model."
      ]
    },
    {
      "cell_type": "code",
      "execution_count": null,
      "metadata": {
        "id": "xaAyiSfdfeq6",
        "colab": {
          "base_uri": "https://localhost:8080/",
          "height": 581
        },
        "outputId": "3aaefa93-dbf5-4530-a101-d79bcda557bf"
      },
      "outputs": [
        {
          "output_type": "execute_result",
          "data": {
            "text/plain": [
              "Text(0.5, 1.0, 'Model Behavior On Training Set')"
            ]
          },
          "metadata": {},
          "execution_count": 180
        },
        {
          "output_type": "display_data",
          "data": {
            "text/plain": [
              "<Figure size 1200x600 with 1 Axes>"
            ],
            "image/png": "[encoded data removed]"
          },
          "metadata": {}
        }
      ],
      "source": [
        "col_name = 'AVG_READING_8_SCORE'\n",
        "\n",
        "f = plt.figure(figsize=(12,6))\n",
        "plt.scatter(X_train[col_name], y_train, color = \"red\")\n",
        "plt.scatter(X_train[col_name], model.predict(X_train), color = \"green\")\n",
        "\n",
        "plt.legend(['True Training','Predicted Training'])\n",
        "plt.xlabel(col_name)\n",
        "plt.ylabel('NAME OF THE PREDICTOR')\n",
        "plt.title(\"Model Behavior On Training Set\")"
      ]
    },
    {
      "cell_type": "code",
      "execution_count": null,
      "metadata": {
        "id": "If6uZlPyfeq6",
        "colab": {
          "base_uri": "https://localhost:8080/",
          "height": 581
        },
        "outputId": "ae63b120-f37a-4e98-a8a9-a4fd3a56c990"
      },
      "outputs": [
        {
          "output_type": "execute_result",
          "data": {
            "text/plain": [
              "Text(0.5, 1.0, 'Model Behavior on Testing Set')"
            ]
          },
          "metadata": {},
          "execution_count": 184
        },
        {
          "output_type": "display_data",
          "data": {
            "text/plain": [
              "<Figure size 1200x600 with 1 Axes>"
            ],
            "image/png": "[encoded data removed]"
          },
          "metadata": {}
        }
      ],
      "source": [
        "col_name = \"AVG_MATH_8_SCORE\"\n",
        "\n",
        "f = plt.figure(figsize=(12,6))\n",
        "plt.scatter(X_test[col_name], y_test, color = \"blue\")\n",
        "plt.scatter(X_test[col_name], model.predict(X_test), color = \"black\")\n",
        "\n",
        "plt.legend(['True testing','Predicted testing'])\n",
        "plt.xlabel(col_name)\n",
        "plt.ylabel('AVG_MATH_8_SCORE')\n",
        "plt.title(\"Model Behavior on Testing Set\")"
      ]
    }
  ],
  "metadata": {
    "kernelspec": {
      "display_name": "Python 3.9.0 64-bit",
      "language": "python",
      "name": "python3"
    },
    "language_info": {
      "codemirror_mode": {
        "name": "ipython",
        "version": 3
      },
      "file_extension": ".py",
      "mimetype": "text/x-python",
      "name": "python",
      "nbconvert_exporter": "python",
      "pygments_lexer": "ipython3",
      "version": "3.9.0"
    },
    "vscode": {
      "interpreter": {
        "hash": "6cf8df3ff69f85f626faf55c10df6fe2cb9d1236b4dc73844ee4dc01369c2c99"
      }
    },
    "colab": {
      "provenance": []
    }
  },
  "nbformat": 4,
  "nbformat_minor": 0
}